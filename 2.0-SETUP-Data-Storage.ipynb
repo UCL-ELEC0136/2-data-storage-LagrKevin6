{
 "cells": [
  {
   "cell_type": "markdown",
   "metadata": {},
   "source": [
    "<div width=50% style=\"display: block; margin: auto\">\n",
    "    <img src=\"figures/ucl-logo.svg\" width=100%>\n",
    "</div>\n",
    "\n",
    "### [UCL-ELEC0136 Data Acquisition and Processing Systems 2024]()\n",
    "University College London\n",
    "# Lab 2.0: Data Storage - Prerequisites\n",
    "\n",
    "\n",
    "<hr width=70% style=\"float: left\">"
   ]
  },
  {
   "cell_type": "markdown",
   "metadata": {},
   "source": [
    "### Objectives\n",
    "* Make sure that you've completed the setting up tasks from Lab 0 and Lab 1\n",
    "* Install a MySQL server on your machine\n",
    "* Create your free MongoDB Atlas account that you can use to create a NoSQL online database\n",
    "\n",
    "### Outline\n",
    "\n",
    "This Notebook aims at helping you set up everything you will need for Lab 2 - Data Storage.\n",
    "\n",
    "* 0.0 [Setting up tasks from Lab 0 and Lab 1](##-0.0-Setting-up-tasks-from-Lab-0-and-Lab-1)\n",
    "* 0.1 [Setting up MySQL and its connection to the Notebook](##-0.1-Setting-up-MySQL-and-its-connection-to-the-Notebook)\n",
    "* 0.2 [Setting up a NoSQL online database and its connection to the Notebook](##-0.2-Setting-up-a-NoSQL-online-database-and-its-connection-to-the-Notebook)\n",
    "\n",
    "\n",
    "<hr width=70% style=\"float: left\">"
   ]
  },
  {
   "cell_type": "markdown",
   "metadata": {},
   "source": [
    "# 0. Setting up\n",
    "\n",
    "\n",
    "<div class=\"alert alert-heading alert-danger\" style=\"background-color: white; border: 2px solid; border-radius: 5px; color: #000; border-color:#AAA; padding: 10px\">\n",
    "    <b>💎 Tip</b>\n",
    "\n",
    "Hopefully, this part will run smoothly, allowing you to proceed with the rest of the notebook quickly. However, it is possible that you encounter versioning problems and installation errors. **If you do, please seek assistance from the TAs so that you move on to the rest of the lab as fast as possible.**\n",
    "\n",
    "</div>\n",
    "\n",
    "Unfortunately, situations where you lose time trying to figure out why a package doesn't work on your machine are an inevitable part of your life if you work with software, and you will encounter such issues many times in your career. There is a silver lining: learning how to debug an installation is a valuable skill that will benefit you greatly!\n",
    "\n",
    "\n",
    "<div class=\"alert alert-block alert-danger\">\n",
    "<b>👩‍💻👨‍💻 Action required</b>\n",
    "\n",
    "- Make sure your OS is updated to the latest version\n",
    "</div>"
   ]
  },
  {
   "cell_type": "markdown",
   "metadata": {},
   "source": [
    "## 0.0 Setting up tasks from Lab 0 and Lab 1\n",
    "\n",
    "<div class=\"alert alert-block alert-danger\">\n",
    "<b>👩‍💻👨‍💻 Action required</b>\n",
    "    \n",
    "- Run throught the following checklist and make sure that you've done all of the tasks before moving on to parts 0.1 and 0.2.\n",
    "- If you encounter an issue, try to troubleshoot by looking online if other people have encountered the same issues and how they solved it.\n",
    "- If all fails, use the forum on Moodle to reach out to the teaching staff.\n",
    "\n",
    "    \n",
    "</div>"
   ]
  },
  {
   "cell_type": "markdown",
   "metadata": {},
   "source": [
    "**Git**\n",
    "* Install git on your computer from [the official git websiste](https://git-scm.com).\n",
    "* Make sure you're familiar with [git's basic commands](https://education.github.com/git-cheat-sheet-education.pdf)\n",
    "\n",
    "**VS Code**\n",
    "* Install [VS Code](https://code.visualstudio.com)\n",
    "* In VS Code, go to the extensions tab, and download the [python extension](https://marketplace.visualstudio.com/items?itemName=ms-python.python) and [jupyter extension](https://marketplace.visualstudio.com/items?itemName=ms-toolsai.jupyter).\n",
    "\n",
    "**Conda python environment**\n",
    "- Look [here](https://github.com/UCL-ELEC0136/setup) to understand how an environment .yml file where the pip requirements are stored separate into another file.\n",
    "- Create an environment file with your blocknote app and name it `environment.yml`.\n",
    "- The environment (not the file) **must** have name `daps`.\n",
    "- Replace the version of python with 3.11.\n",
    "- Create a text file called `requirements.txt`, add package names to be installed with your environmen (numpy, pandas, requests, jupyter, jupyterlab...)\n",
    "- Open a terminal and use cd to navigate to the folder containing the `environment.yml` environment file.\n",
    "- Run the command `sudo conda env create -f environment.yml`, enter the password of your session, press enter.\n",
    "- Run the command `conda info --envs` to check that the envirionment called daps has been created.\n",
    "- Run the command `conda activate daps` to activate the environment.\n",
    "- Install the dependencies using `pip install -r requirements.txt`. You can do this in the cell bellow or in your terminal.\n",
    "- In VS Code, verify that your Notebook is running on the python kernel `daps`.\n",
    "**NOTE: for this lab and all future labs, make sure that your Notebook is running on the python kernel `daps`.** \n",
    "This is a key step as it guarantees that your development environment is **reproducible**.\n",
    "\n",
    "\n",
    "<div width=50% style=\"display: block; margin: auto\">\n",
    "    <img src=\"./figures/kernel.png\" width=100%>\n",
    "</div>\n",
    "\n",
    "\n",
    "\n",
    "<div class=\"alert alert-heading alert-danger\" style=\"background-color: white; border: 2px solid; border-radius: 5px; color: #000; border-color:#AAA; padding: 10px\">\n",
    "    <b>💎 Tip</b>\n",
    "\n",
    "You can prepend an exclamation mark `!` to any command in a Jupyter notebook to run it in the terminal. For example, `!conda activate daps` will activate the `daps` environment in the terminal.\n",
    "\n",
    "</div>"
   ]
  },
  {
   "cell_type": "markdown",
   "metadata": {},
   "source": [
    "## 0.1 Setting up MySQL and its connection to the Notebook\n",
    "\n",
    "### 0.1.1 Setting up a MySQL server on your machine\n",
    "\n",
    "In this part, we will set up a [MySQL Community Server](https://dev.mysql.com/downloads/mysql/) on your machine, that we will then use as our WebApp SQL server.\n",
    "\n",
    "<div class=\"alert alert-heading alert-danger\" style=\"background-color: white; border: 2px solid; border-radius: 5px; color: #000; border-color:#AAA; padding: 10px\">\n",
    "    <b>💎 Tip</b>\n",
    "\n",
    "If at some point you make a mistake (you download the wrong version...), and want to start again, run in your terminal `pip3 uninstall mysql` to uninstall the version of mysql on your machine.\n",
    "</div>\n",
    "\n",
    "<div class=\"alert alert-block alert-danger\">\n",
    "<b>👩‍💻👨‍💻 Action required</b>\n",
    "\n",
    "- Download the version of MySQL Community server adapted to the machine you are working on from this website: https://dev.mysql.com/downloads/mysql/\n",
    "    \n",
    "- Install the MySQL Community server, you will be asked to create a password, **PLEASE KEEP A RECORD OF THAT PASSWORD YOU WILL NEED IT LATER**. [Linux tutorial](https://www.youtube.com/watch?v=0o0tSaVQfV4) [MAC tutorial](https://www.youtube.com/watch?v=5BQ5GvjiAR4) [Windows tutorial](https://www.youtube.com/watch?v=2HQC94la6go)\n",
    "    \n",
    "    *Note1: for MAC, install the x86 version if you have an Intel CPU, and the ARM version if you have an Apple CPU*\n",
    "    \n",
    "    *Note2: you don't need an Oracle account, just click on \"No thanks, just start my download.\"*\n",
    "    \n",
    "    *Note3: you don't need to install MySQL Workbench*\n",
    "    \n",
    "    \n",
    "    \n",
    "- Run the cell bellow (or open a terminal and type `mysql -V`). This should give you the version of MySQL installed on your machine, which will let you know that the installation was successful. If it doesn't work, try restarting your machine, and if still unsucessful call for help.\n",
    "\n",
    "</div>\n"
   ]
  },
  {
   "cell_type": "code",
   "execution_count": 21,
   "metadata": {},
   "outputs": [
    {
     "name": "stdout",
     "output_type": "stream",
     "text": [
      "Python 3.11.5\n"
     ]
    }
   ],
   "source": [
    "!python --version # Version of python of this Notebook\n",
    "\n",
    "#!pip install -r requirements.txt"
   ]
  },
  {
   "cell_type": "code",
   "execution_count": 7,
   "metadata": {},
   "outputs": [
    {
     "name": "stderr",
     "output_type": "stream",
     "text": [
      "'mysql' 不是内部或外部命令，也不是可运行的程序\n",
      "或批处理文件。\n"
     ]
    }
   ],
   "source": [
    "!mysql -V"
   ]
  },
  {
   "cell_type": "markdown",
   "metadata": {},
   "source": [
    "### 0.1.2 Installing and importing important python libraries\n",
    "\n",
    "<div class=\"alert alert-block alert-danger\">\n",
    "<b>👩‍💻👨‍💻 Action required</b>\n",
    "\n",
    "- Go to the requirement.txt file you created in lab 1, and add `mysql-connector-python` to the list of packages.\n",
    "- Open a terminal, navigate using `cd` to the folder in which requirements.txt is located, and run `pip3 install -r requirements.txt`.\n",
    "\n",
    "</div>"
   ]
  },
  {
   "cell_type": "code",
   "execution_count": 10,
   "metadata": {},
   "outputs": [
    {
     "name": "stdout",
     "output_type": "stream",
     "text": [
      "Requirement already satisfied: mysql-connector-python in c:\\anaconda\\lib\\site-packages (8.1.0)\n",
      "Requirement already satisfied: protobuf<=4.21.12,>=4.21.1 in c:\\anaconda\\lib\\site-packages (from mysql-connector-python) (4.21.12)\n",
      "Name: mysql-connector-python\n",
      "Version: 8.1.0\n",
      "Summary: MySQL driver written in Python\n",
      "Home-page: http://dev.mysql.com/doc/connector-python/en/index.html\n",
      "Author: Oracle and/or its affiliates\n",
      "Author-email: \n",
      "License: GNU GPLv2 (with FOSS License Exception)\n",
      "Location: c:\\anaconda\\lib\\site-packages\n",
      "Requires: protobuf\n",
      "Required-by: \n"
     ]
    },
    {
     "name": "stderr",
     "output_type": "stream",
     "text": [
      "WARNING: Package(s) not found: #, Version, mysql-connector, of, of, python\n"
     ]
    },
    {
     "name": "stdout",
     "output_type": "stream",
     "text": [
      "Requirement already satisfied: pandas in c:\\anaconda\\lib\\site-packages (1.0.5)\n",
      "Requirement already satisfied: pytz>=2017.2 in c:\\anaconda\\lib\\site-packages (from pandas) (2020.1)\n",
      "Requirement already satisfied: numpy>=1.13.3 in c:\\anaconda\\lib\\site-packages (from pandas) (1.18.5)\n",
      "Requirement already satisfied: python-dateutil>=2.6.1 in c:\\anaconda\\lib\\site-packages (from pandas) (2.8.1)\n",
      "Requirement already satisfied: six>=1.5 in c:\\anaconda\\lib\\site-packages (from python-dateutil>=2.6.1->pandas) (1.15.0)\n"
     ]
    }
   ],
   "source": [
    "# FOR DEBUGING if installation of the package using the requirements.txt fails\n",
    "!pip3 install mysql-connector-python\n",
    "\n",
    "#Install python librairies\n",
    "!pip show mysql-connector-python # Version of python of mysql-connector\n",
    "!pip3 install pandas\n",
    "\n"
   ]
  },
  {
   "cell_type": "markdown",
   "metadata": {},
   "source": [
    "<div class=\"alert alert-block alert-danger\">\n",
    "<b>👩‍💻👨‍💻 Action required</b>\n",
    "\n",
    "- Run the cells bellow and check that no errors are returned.\n",
    "\n",
    "</div>"
   ]
  },
  {
   "cell_type": "code",
   "execution_count": 11,
   "metadata": {},
   "outputs": [
    {
     "ename": "ImportError",
     "evalue": "cannot import name 'TypeAlias' from 'typing_extensions' (C:\\Anaconda\\lib\\site-packages\\typing_extensions.py)",
     "output_type": "error",
     "traceback": [
      "\u001b[1;31m---------------------------------------------------------------------------\u001b[0m",
      "\u001b[1;31mImportError\u001b[0m                               Traceback (most recent call last)",
      "\u001b[1;32m<ipython-input-11-1df7fe76e478>\u001b[0m in \u001b[0;36m<module>\u001b[1;34m\u001b[0m\n\u001b[0;32m      1\u001b[0m \u001b[1;31m#Import python librairies into your Jupyter shell\u001b[0m\u001b[1;33m\u001b[0m\u001b[1;33m\u001b[0m\u001b[1;33m\u001b[0m\u001b[0m\n\u001b[0;32m      2\u001b[0m \u001b[1;32mimport\u001b[0m \u001b[0mpandas\u001b[0m \u001b[1;32mas\u001b[0m \u001b[0mpd\u001b[0m\u001b[1;33m\u001b[0m\u001b[1;33m\u001b[0m\u001b[0m\n\u001b[1;32m----> 3\u001b[1;33m \u001b[1;32mimport\u001b[0m \u001b[0mmysql\u001b[0m\u001b[1;33m.\u001b[0m\u001b[0mconnector\u001b[0m\u001b[1;33m\u001b[0m\u001b[1;33m\u001b[0m\u001b[0m\n\u001b[0m\u001b[0;32m      4\u001b[0m \u001b[1;32mfrom\u001b[0m \u001b[0mmysql\u001b[0m\u001b[1;33m.\u001b[0m\u001b[0mconnector\u001b[0m \u001b[1;32mimport\u001b[0m \u001b[0mError\u001b[0m\u001b[1;33m\u001b[0m\u001b[1;33m\u001b[0m\u001b[0m\n\u001b[0;32m      5\u001b[0m \u001b[1;33m\u001b[0m\u001b[0m\n",
      "\u001b[1;32mC:\\Anaconda\\lib\\site-packages\\mysql\\connector\\__init__.py\u001b[0m in \u001b[0;36m<module>\u001b[1;34m\u001b[0m\n\u001b[0;32m     38\u001b[0m \u001b[1;33m\u001b[0m\u001b[0m\n\u001b[0;32m     39\u001b[0m \u001b[1;32mfrom\u001b[0m \u001b[1;33m.\u001b[0m \u001b[1;32mimport\u001b[0m \u001b[0mversion\u001b[0m\u001b[1;33m\u001b[0m\u001b[1;33m\u001b[0m\u001b[0m\n\u001b[1;32m---> 40\u001b[1;33m \u001b[1;32mfrom\u001b[0m \u001b[1;33m.\u001b[0m\u001b[0mconnection\u001b[0m \u001b[1;32mimport\u001b[0m \u001b[0mMySQLConnection\u001b[0m\u001b[1;33m\u001b[0m\u001b[1;33m\u001b[0m\u001b[0m\n\u001b[0m\u001b[0;32m     41\u001b[0m \u001b[1;32mfrom\u001b[0m \u001b[1;33m.\u001b[0m\u001b[0mconstants\u001b[0m \u001b[1;32mimport\u001b[0m \u001b[0mCharacterSet\u001b[0m\u001b[1;33m,\u001b[0m \u001b[0mClientFlag\u001b[0m\u001b[1;33m,\u001b[0m \u001b[0mFieldFlag\u001b[0m\u001b[1;33m,\u001b[0m \u001b[0mFieldType\u001b[0m\u001b[1;33m,\u001b[0m \u001b[0mRefreshOption\u001b[0m\u001b[1;33m\u001b[0m\u001b[1;33m\u001b[0m\u001b[0m\n\u001b[0;32m     42\u001b[0m from .dbapi import (\n",
      "\u001b[1;32mC:\\Anaconda\\lib\\site-packages\\mysql\\connector\\connection.py\u001b[0m in \u001b[0;36m<module>\u001b[1;34m\u001b[0m\n\u001b[0;32m     56\u001b[0m \u001b[1;33m\u001b[0m\u001b[0m\n\u001b[0;32m     57\u001b[0m \u001b[1;32mfrom\u001b[0m \u001b[1;33m.\u001b[0m \u001b[1;32mimport\u001b[0m \u001b[0mversion\u001b[0m\u001b[1;33m\u001b[0m\u001b[1;33m\u001b[0m\u001b[0m\n\u001b[1;32m---> 58\u001b[1;33m \u001b[1;32mfrom\u001b[0m \u001b[1;33m.\u001b[0m\u001b[0mabstracts\u001b[0m \u001b[1;32mimport\u001b[0m \u001b[0mMySQLConnectionAbstract\u001b[0m\u001b[1;33m\u001b[0m\u001b[1;33m\u001b[0m\u001b[0m\n\u001b[0m\u001b[0;32m     59\u001b[0m \u001b[1;32mfrom\u001b[0m \u001b[1;33m.\u001b[0m\u001b[0mauthentication\u001b[0m \u001b[1;32mimport\u001b[0m \u001b[0mget_auth_plugin\u001b[0m\u001b[1;33m\u001b[0m\u001b[1;33m\u001b[0m\u001b[0m\n\u001b[0;32m     60\u001b[0m from .constants import (\n",
      "\u001b[1;32mC:\\Anaconda\\lib\\site-packages\\mysql\\connector\\abstracts.py\u001b[0m in \u001b[0;36m<module>\u001b[1;34m\u001b[0m\n\u001b[0;32m     69\u001b[0m     \u001b[1;32mpass\u001b[0m\u001b[1;33m\u001b[0m\u001b[1;33m\u001b[0m\u001b[0m\n\u001b[0;32m     70\u001b[0m \u001b[1;33m\u001b[0m\u001b[0m\n\u001b[1;32m---> 71\u001b[1;33m from .constants import (\n\u001b[0m\u001b[0;32m     72\u001b[0m     \u001b[0mCONN_ATTRS_DN\u001b[0m\u001b[1;33m,\u001b[0m\u001b[1;33m\u001b[0m\u001b[1;33m\u001b[0m\u001b[0m\n\u001b[0;32m     73\u001b[0m     \u001b[0mDEFAULT_CONFIGURATION\u001b[0m\u001b[1;33m,\u001b[0m\u001b[1;33m\u001b[0m\u001b[1;33m\u001b[0m\u001b[0m\n",
      "\u001b[1;32mC:\\Anaconda\\lib\\site-packages\\mysql\\connector\\constants.py\u001b[0m in \u001b[0;36m<module>\u001b[1;34m\u001b[0m\n\u001b[0;32m     35\u001b[0m \u001b[1;33m\u001b[0m\u001b[0m\n\u001b[0;32m     36\u001b[0m \u001b[1;32mfrom\u001b[0m \u001b[1;33m.\u001b[0m\u001b[0mcharsets\u001b[0m \u001b[1;32mimport\u001b[0m \u001b[0mMYSQL_CHARACTER_SETS\u001b[0m\u001b[1;33m,\u001b[0m \u001b[0mMYSQL_CHARACTER_SETS_57\u001b[0m\u001b[1;33m\u001b[0m\u001b[1;33m\u001b[0m\u001b[0m\n\u001b[1;32m---> 37\u001b[1;33m \u001b[1;32mfrom\u001b[0m \u001b[1;33m.\u001b[0m\u001b[0merrors\u001b[0m \u001b[1;32mimport\u001b[0m \u001b[0mProgrammingError\u001b[0m\u001b[1;33m\u001b[0m\u001b[1;33m\u001b[0m\u001b[0m\n\u001b[0m\u001b[0;32m     38\u001b[0m \u001b[1;33m\u001b[0m\u001b[0m\n\u001b[0;32m     39\u001b[0m \u001b[0mNET_BUFFER_LENGTH\u001b[0m\u001b[1;33m:\u001b[0m \u001b[0mint\u001b[0m \u001b[1;33m=\u001b[0m \u001b[1;36m8192\u001b[0m\u001b[1;33m\u001b[0m\u001b[1;33m\u001b[0m\u001b[0m\n",
      "\u001b[1;32mC:\\Anaconda\\lib\\site-packages\\mysql\\connector\\errors.py\u001b[0m in \u001b[0;36m<module>\u001b[1;34m\u001b[0m\n\u001b[0;32m     31\u001b[0m \u001b[1;33m\u001b[0m\u001b[0m\n\u001b[0;32m     32\u001b[0m \u001b[1;32mfrom\u001b[0m \u001b[1;33m.\u001b[0m\u001b[0mlocales\u001b[0m \u001b[1;32mimport\u001b[0m \u001b[0mget_client_error\u001b[0m\u001b[1;33m\u001b[0m\u001b[1;33m\u001b[0m\u001b[0m\n\u001b[1;32m---> 33\u001b[1;33m \u001b[1;32mfrom\u001b[0m \u001b[1;33m.\u001b[0m\u001b[0mtypes\u001b[0m \u001b[1;32mimport\u001b[0m \u001b[0mStrOrBytes\u001b[0m\u001b[1;33m\u001b[0m\u001b[1;33m\u001b[0m\u001b[0m\n\u001b[0m\u001b[0;32m     34\u001b[0m \u001b[1;32mfrom\u001b[0m \u001b[1;33m.\u001b[0m\u001b[0mutils\u001b[0m \u001b[1;32mimport\u001b[0m \u001b[0mread_bytes\u001b[0m\u001b[1;33m,\u001b[0m \u001b[0mread_int\u001b[0m\u001b[1;33m\u001b[0m\u001b[1;33m\u001b[0m\u001b[0m\n\u001b[0;32m     35\u001b[0m \u001b[1;33m\u001b[0m\u001b[0m\n",
      "\u001b[1;32mC:\\Anaconda\\lib\\site-packages\\mysql\\connector\\types.py\u001b[0m in \u001b[0;36m<module>\u001b[1;34m\u001b[0m\n\u001b[0;32m     25\u001b[0m \u001b[1;32melse\u001b[0m\u001b[1;33m:\u001b[0m\u001b[1;33m\u001b[0m\u001b[1;33m\u001b[0m\u001b[0m\n\u001b[0;32m     26\u001b[0m     \u001b[1;32mtry\u001b[0m\u001b[1;33m:\u001b[0m\u001b[1;33m\u001b[0m\u001b[1;33m\u001b[0m\u001b[0m\n\u001b[1;32m---> 27\u001b[1;33m         \u001b[1;32mfrom\u001b[0m \u001b[0mtyping_extensions\u001b[0m \u001b[1;32mimport\u001b[0m \u001b[0mTypeAlias\u001b[0m\u001b[1;33m\u001b[0m\u001b[1;33m\u001b[0m\u001b[0m\n\u001b[0m\u001b[0;32m     28\u001b[0m     \u001b[1;32mexcept\u001b[0m \u001b[0mModuleNotFoundError\u001b[0m\u001b[1;33m:\u001b[0m\u001b[1;33m\u001b[0m\u001b[1;33m\u001b[0m\u001b[0m\n\u001b[0;32m     29\u001b[0m         \u001b[1;31m# pylint: disable=reimported\u001b[0m\u001b[1;33m\u001b[0m\u001b[1;33m\u001b[0m\u001b[1;33m\u001b[0m\u001b[0m\n",
      "\u001b[1;31mImportError\u001b[0m: cannot import name 'TypeAlias' from 'typing_extensions' (C:\\Anaconda\\lib\\site-packages\\typing_extensions.py)"
     ]
    }
   ],
   "source": [
    "#Import python librairies into your Jupyter shell\n",
    "import pandas as pd\n",
    "import mysql.connector\n",
    "from mysql.connector import Error\n",
    "\n",
    "\n",
    "# FOR DEBUGING IF THIS CELL RETURNS AN ERROR\n",
    "!python --version # Version of python of this Notebook\n",
    "!pip show mysql-connector-python # Version of python of mysql-connector\n",
    "\n",
    "#import sys\n",
    "#sys.path.append('/usr/local/lib/python3.11/site-packages') #<-- Put here the path where \"mysql-connector-python\" was installed"
   ]
  },
  {
   "cell_type": "markdown",
   "metadata": {},
   "source": [
    "### 0.1.3 Connect python to the MySQL server\n",
    "\n",
    "<div class=\"alert alert-block alert-danger\">\n",
    "<b>👩‍💻👨‍💻 Action required</b>\n",
    "\n",
    "- Run the cells bellow and check that no errors are returned.\n",
    "- Change the password to the one you created when installing MySQL.\n",
    "\n",
    "</div>"
   ]
  },
  {
   "cell_type": "code",
   "execution_count": 12,
   "metadata": {},
   "outputs": [],
   "source": [
    "def create_server_connection(host_name, user_name, user_password):\n",
    "    \"\"\"\n",
    "    This function attempts to establish a connection to a MySQL database server\n",
    "    using the provided credentials.\n",
    "\n",
    "    Args:\n",
    "    - host_name (str): The hostname or IP address of the MySQL server.\n",
    "    - user_name (str): The username for authenticating with the MySQL server.\n",
    "    - user_password (str): The password for the user.\n",
    "\n",
    "    Returns:\n",
    "    - mysql.connector.connection.MySQLConnection or None: A MySQL database connection object if the connection is successful, or None if an error occurs during connection.\n",
    "    \n",
    "    Raises:\n",
    "    - mysql.connector.Error: If an error occurs during the database creation process.\n",
    "    \n",
    "    \n",
    "    \"\"\"\n",
    "    connection = None\n",
    "    try:\n",
    "        connection = mysql.connector.connect(\n",
    "            host=host_name,\n",
    "            user=user_name,\n",
    "            password=user_password\n",
    "        )\n",
    "        print(\"MySQL Database connection successful\")\n",
    "    except Error as err:\n",
    "        print(f\"Error: '{err}'\")\n",
    "\n",
    "    return connection"
   ]
  },
  {
   "cell_type": "code",
   "execution_count": 13,
   "metadata": {},
   "outputs": [
    {
     "ename": "NameError",
     "evalue": "name 'Error' is not defined",
     "output_type": "error",
     "traceback": [
      "\u001b[1;31m---------------------------------------------------------------------------\u001b[0m",
      "\u001b[1;31mNameError\u001b[0m                                 Traceback (most recent call last)",
      "\u001b[1;32m<ipython-input-12-efa67f04f1d3>\u001b[0m in \u001b[0;36mcreate_server_connection\u001b[1;34m(host_name, user_name, user_password)\u001b[0m\n\u001b[0;32m     20\u001b[0m     \u001b[1;32mtry\u001b[0m\u001b[1;33m:\u001b[0m\u001b[1;33m\u001b[0m\u001b[1;33m\u001b[0m\u001b[0m\n\u001b[1;32m---> 21\u001b[1;33m         connection = mysql.connector.connect(\n\u001b[0m\u001b[0;32m     22\u001b[0m             \u001b[0mhost\u001b[0m\u001b[1;33m=\u001b[0m\u001b[0mhost_name\u001b[0m\u001b[1;33m,\u001b[0m\u001b[1;33m\u001b[0m\u001b[1;33m\u001b[0m\u001b[0m\n",
      "\u001b[1;31mNameError\u001b[0m: name 'mysql' is not defined",
      "\nDuring handling of the above exception, another exception occurred:\n",
      "\u001b[1;31mNameError\u001b[0m                                 Traceback (most recent call last)",
      "\u001b[1;32m<ipython-input-13-b06b010a39b0>\u001b[0m in \u001b[0;36m<module>\u001b[1;34m\u001b[0m\n\u001b[0;32m      6\u001b[0m \u001b[1;33m\u001b[0m\u001b[0m\n\u001b[0;32m      7\u001b[0m \u001b[0mpw\u001b[0m \u001b[1;33m=\u001b[0m \u001b[1;34m\"M470196b9\"\u001b[0m \u001b[1;31m#<--- your password here\u001b[0m\u001b[1;33m\u001b[0m\u001b[1;33m\u001b[0m\u001b[0m\n\u001b[1;32m----> 8\u001b[1;33m \u001b[0mserver_connection\u001b[0m \u001b[1;33m=\u001b[0m \u001b[0mcreate_server_connection\u001b[0m\u001b[1;33m(\u001b[0m\u001b[1;34m\"localhost\"\u001b[0m\u001b[1;33m,\u001b[0m \u001b[1;34m\"root\"\u001b[0m\u001b[1;33m,\u001b[0m \u001b[0mpw\u001b[0m\u001b[1;33m)\u001b[0m\u001b[1;33m\u001b[0m\u001b[1;33m\u001b[0m\u001b[0m\n\u001b[0m",
      "\u001b[1;32m<ipython-input-12-efa67f04f1d3>\u001b[0m in \u001b[0;36mcreate_server_connection\u001b[1;34m(host_name, user_name, user_password)\u001b[0m\n\u001b[0;32m     25\u001b[0m         )\n\u001b[0;32m     26\u001b[0m         \u001b[0mprint\u001b[0m\u001b[1;33m(\u001b[0m\u001b[1;34m\"MySQL Database connection successful\"\u001b[0m\u001b[1;33m)\u001b[0m\u001b[1;33m\u001b[0m\u001b[1;33m\u001b[0m\u001b[0m\n\u001b[1;32m---> 27\u001b[1;33m     \u001b[1;32mexcept\u001b[0m \u001b[0mError\u001b[0m \u001b[1;32mas\u001b[0m \u001b[0merr\u001b[0m\u001b[1;33m:\u001b[0m\u001b[1;33m\u001b[0m\u001b[1;33m\u001b[0m\u001b[0m\n\u001b[0m\u001b[0;32m     28\u001b[0m         \u001b[0mprint\u001b[0m\u001b[1;33m(\u001b[0m\u001b[1;34mf\"Error: '{err}'\"\u001b[0m\u001b[1;33m)\u001b[0m\u001b[1;33m\u001b[0m\u001b[1;33m\u001b[0m\u001b[0m\n\u001b[0;32m     29\u001b[0m \u001b[1;33m\u001b[0m\u001b[0m\n",
      "\u001b[1;31mNameError\u001b[0m: name 'Error' is not defined"
     ]
    }
   ],
   "source": [
    "###########################\n",
    "# Task: \n",
    "#   change pw with the MySQL server password you chose in 0.1.1, and run the cell\n",
    "#\n",
    "###########################\n",
    "\n",
    "pw = \"M470196b9\" #<--- your password here\n",
    "server_connection = create_server_connection(\"localhost\", \"root\", pw)"
   ]
  },
  {
   "cell_type": "markdown",
   "metadata": {},
   "source": [
    "## 0.2 Setting up a NoSQL online database and its connection to the Notebook\n",
    "\n",
    "### 0.2.1 Create a MongoDB ATLAS account\n",
    "\n",
    "**What is MongoDB?**\n",
    "\n",
    "**MongoDB is a flexible and scalable NoSQL database system that stores data in a document-oriented format (BSON)**. MongoDB environments provide users with a server to create databases with MongoDB. MongoDB stores data as records that are made up of collections and documents. That server can be access via an API, which allows for data manipulation with a variaty of programming languages (C, C++, C#, Go, Java, Python, Ruby and Swift). \n",
    "\n",
    "**Data structures in MongoDB**\n",
    "\n",
    "In MongoDB, a **database** is the container for collections. A single **collection**  is the container for documents. **Documents** are usually key/value pairs but it can include arrays and subdocuments. It can support different data types. More information here: https://docs.mongodb.com/manual/reference/bson-types/. \n",
    "\n",
    "| Relational DB  | MongoDB  |\n",
    "|---|---|\n",
    "|  Database | Database  |  \n",
    "| Tables  |  Collections |\n",
    "| Rows  | Documents  |\n",
    "| Index  |  Index |\n",
    "\n",
    "\n",
    "\n",
    "You can find more information about MongoDB document structure https://docs.mongodb.com/manual/core/document/. If you are not familiar with JSON and BSON specifications, you might wish to read about them here:\n",
    "- JSON: https://www.json.org/json-en.html\n",
    "- BSON: http://bsonspec.org\n",
    "\n",
    "\n",
    "<div class=\"alert alert-block alert-danger\">\n",
    "<b>👩‍💻👨‍💻 Action required</b>\n",
    "\n",
    "- Follow the instructions in `ELEC0136Lab2-TutorialMongoDB.pdf`\n",
    "- Add `pymongo` and `dnspython` to the requirements.txt file.\n",
    "- Open a terminal, navigate using `cd` to the folder in which requirements.txt is located, and run `pip3 install -r requirements.txt`.\n",
    "- Import `pymongo` and `dnspython`,  with the code below and check that there are no errors.\n",
    "</div>\n",
    " \t"
   ]
  },
  {
   "cell_type": "code",
   "execution_count": 15,
   "metadata": {},
   "outputs": [
    {
     "name": "stdout",
     "output_type": "stream",
     "text": [
      "Collecting pymongo\n",
      "  Downloading pymongo-4.5.0-cp38-cp38-win_amd64.whl (467 kB)\n",
      "Collecting dnspython<3.0.0,>=1.16.0\n",
      "  Downloading dnspython-2.4.2-py3-none-any.whl (300 kB)\n",
      "Installing collected packages: dnspython, pymongo\n",
      "Successfully installed dnspython-2.4.2 pymongo-4.5.0\n",
      "Requirement already satisfied: dnspython in c:\\anaconda\\lib\\site-packages (2.4.2)\n"
     ]
    }
   ],
   "source": [
    "# FOR DEBUGGING Install pymongo and dnspython\n",
    "!pip install pymongo\n",
    "!pip install dnspython\n",
    "\n",
    "\n",
    "# Run cell to import librairies\n",
    "import pymongo\n",
    "from pprint import pprint\n",
    "from random import randint"
   ]
  },
  {
   "cell_type": "markdown",
   "metadata": {},
   "source": [
    "### 0.2.2 Connect the Notebook to MongoDB\n",
    "\n",
    "<div class=\"alert alert-block alert-danger\">\n",
    "<b>👩‍💻👨‍💻 Action required</b>\n",
    "\n",
    "- Replace uri with the link you copied from MongoDB's online platform when setting the connection to the cluster.\n",
    "    \n",
    "- Replace $<password>$ with your password.\n",
    "\n",
    "</div>\n"
   ]
  },
  {
   "cell_type": "code",
   "execution_count": 37,
   "metadata": {},
   "outputs": [
    {
     "name": "stdout",
     "output_type": "stream",
     "text": [
      "Requirement already satisfied: pymongo==3.11 in c:\\anaconda\\envs\\daps\\lib\\site-packages (3.11.0)\n"
     ]
    },
    {
     "ename": "NameError",
     "evalue": "name 'pymongo' is not defined",
     "output_type": "error",
     "traceback": [
      "\u001b[1;31m---------------------------------------------------------------------------\u001b[0m",
      "\u001b[1;31mNameError\u001b[0m                                 Traceback (most recent call last)",
      "\u001b[1;32mc:\\Users\\zjy\\github-classroom\\UCL-ELEC0136\\2-data-storage-LagrKevin6\\2.0-SETUP-Data-Storage.ipynb Cell 19\u001b[0m line \u001b[0;36m1\n\u001b[0;32m      <a href='vscode-notebook-cell:/c%3A/Users/zjy/github-classroom/UCL-ELEC0136/2-data-storage-LagrKevin6/2.0-SETUP-Data-Storage.ipynb#X24sZmlsZQ%3D%3D?line=8'>9</a>\u001b[0m uri \u001b[39m=\u001b[39m \u001b[39m'\u001b[39m\u001b[39mmongodb+srv://junyuzhu23:<M470196b9>@cluster0.rorzxmv.mongodb.net/?retryWrites=true&w=majority\u001b[39m\u001b[39m'\u001b[39m\u001b[39m#<-- TODO put the link here and replace <password> with your password\u001b[39;00m\n\u001b[0;32m     <a href='vscode-notebook-cell:/c%3A/Users/zjy/github-classroom/UCL-ELEC0136/2-data-storage-LagrKevin6/2.0-SETUP-Data-Storage.ipynb#X24sZmlsZQ%3D%3D?line=10'>11</a>\u001b[0m \u001b[39m#########\u001b[39;00m\n\u001b[0;32m     <a href='vscode-notebook-cell:/c%3A/Users/zjy/github-classroom/UCL-ELEC0136/2-data-storage-LagrKevin6/2.0-SETUP-Data-Storage.ipynb#X24sZmlsZQ%3D%3D?line=11'>12</a>\u001b[0m \u001b[39m# Create a new client and connect to the server\u001b[39;00m\n\u001b[1;32m---> <a href='vscode-notebook-cell:/c%3A/Users/zjy/github-classroom/UCL-ELEC0136/2-data-storage-LagrKevin6/2.0-SETUP-Data-Storage.ipynb#X24sZmlsZQ%3D%3D?line=12'>13</a>\u001b[0m client \u001b[39m=\u001b[39m pymongo\u001b[39m.\u001b[39mMongoClient(uri)\n\u001b[0;32m     <a href='vscode-notebook-cell:/c%3A/Users/zjy/github-classroom/UCL-ELEC0136/2-data-storage-LagrKevin6/2.0-SETUP-Data-Storage.ipynb#X24sZmlsZQ%3D%3D?line=13'>14</a>\u001b[0m \u001b[39m# Send a ping to confirm a successful connection\u001b[39;00m\n\u001b[0;32m     <a href='vscode-notebook-cell:/c%3A/Users/zjy/github-classroom/UCL-ELEC0136/2-data-storage-LagrKevin6/2.0-SETUP-Data-Storage.ipynb#X24sZmlsZQ%3D%3D?line=14'>15</a>\u001b[0m \u001b[39mtry\u001b[39;00m:\n",
      "\u001b[1;31mNameError\u001b[0m: name 'pymongo' is not defined"
     ]
    }
   ],
   "source": [
    "###########################\n",
    "# Task: \n",
    "#   Replace uri with the link you copied from MongoDB's online platform\n",
    "#\n",
    "###########################\n",
    "\n",
    "#!python -m pip install pymongo==3.11\n",
    "\n",
    "uri = 'mongodb+srv://junyuzhu23:<M470196b9>@cluster0.rorzxmv.mongodb.net/?retryWrites=true&w=majority'#<-- TODO put the link here and replace <password> with your password\n",
    "\n",
    "#########\n",
    "# Create a new client and connect to the server\n",
    "client = pymongo.MongoClient(uri)\n",
    "# Send a ping to confirm a successful connection\n",
    "try:\n",
    "    client.admin.command('ping')\n",
    "    print(\"Pinged your deployment. You successfully connected to MongoDB!\")\n",
    "except Exception as e:\n",
    "    print(e)"
   ]
  },
  {
   "cell_type": "markdown",
   "metadata": {},
   "source": [
    "**All good, you are ready for lab 2!**\n",
    "\n",
    "<div width=50% style=\"display: block; margin: auto\">\n",
    "    <img src=\"./figures/cat.jpeg\" width=40%>\n",
    "</div>\n",
    "\n"
   ]
  }
 ],
 "metadata": {
  "kernelspec": {
   "display_name": "Python 3",
   "language": "python",
   "name": "python3"
  },
  "language_info": {
   "codemirror_mode": {
    "name": "ipython",
    "version": 3
   },
   "file_extension": ".py",
   "mimetype": "text/x-python",
   "name": "python",
   "nbconvert_exporter": "python",
   "pygments_lexer": "ipython3",
   "version": "3.8.3"
  }
 },
 "nbformat": 4,
 "nbformat_minor": 4
}
